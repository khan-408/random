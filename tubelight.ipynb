{
  "nbformat": 4,
  "nbformat_minor": 0,
  "metadata": {
    "colab": {
      "provenance": []
    },
    "kernelspec": {
      "name": "python3",
      "display_name": "Python 3"
    },
    "language_info": {
      "name": "python"
    }
  },
  "cells": [
    {
      "cell_type": "code",
      "execution_count": 1,
      "metadata": {
        "id": "86NByq7YeiZE"
      },
      "outputs": [],
      "source": [
        "import scipy.stats as stats\n",
        "\n",
        "sample_mean = 1100\n",
        "population_mean = 1000\n",
        "sample_std = 90\n",
        "sample_size = 120\n",
        "\n",
        "t_statistic = (sample_mean - population_mean) / (sample_std / (sample_size ** 0.5))"
      ]
    },
    {
      "cell_type": "code",
      "source": [
        "df = sample_size - 1\n",
        "\n",
        "# Critical t-value at 1% significance level and df\n",
        "critical_t_value = stats.t.ppf(1 - 0.01, df)"
      ],
      "metadata": {
        "id": "yM3-DeprelaC"
      },
      "execution_count": 2,
      "outputs": []
    },
    {
      "cell_type": "code",
      "source": [
        "if t_statistic > critical_t_value:\n",
        "    print(\"Reject the null hypothesis. The average life of the new tube lights is significantly greater than 1000 hours.the company should give the contract to this new company \")\n",
        "else:\n",
        "    print(\"Fail to reject the null hypothesis. There is not enough evidence to conclude that the average life of the new tube lights is greater than 1000 hours.\")"
      ],
      "metadata": {
        "colab": {
          "base_uri": "https://localhost:8080/"
        },
        "id": "CCoiKQl_eq6Z",
        "outputId": "53cca5ad-78fc-4d56-aec6-545933375954"
      },
      "execution_count": 4,
      "outputs": [
        {
          "output_type": "stream",
          "name": "stdout",
          "text": [
            "Reject the null hypothesis. The average life of the new tube lights is significantly greater than 1000 hours.the company should give the contract to this new company \n"
          ]
        }
      ]
    },
    {
      "cell_type": "code",
      "source": [],
      "metadata": {
        "id": "KY52au39evVf"
      },
      "execution_count": null,
      "outputs": []
    }
  ]
}